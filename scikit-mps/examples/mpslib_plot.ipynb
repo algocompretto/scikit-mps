{
 "cells": [
  {
   "cell_type": "markdown",
   "metadata": {},
   "source": [
    "# Plotting with `Vista`\n",
    "[PyVista](http://docs.pyvista.org/) is a Python module that allow easy access/use of the Visualization Toolkit (VTK). It makes rendering and slicing 3D volumes, as output from MPSlib, straight forward"
   ]
  },
  {
   "cell_type": "markdown",
   "metadata": {},
   "source": [
    "PyVista can be installed using pip:\n",
    "\n",
    "    pip install vista\n",
    "    \n",
    "or Conda\n",
    "\n",
    "    conda install vista\n",
    "    \n",
    "    "
   ]
  },
  {
   "cell_type": "markdown",
   "metadata": {},
   "source": [
    "## Visualize a 3D training image"
   ]
  },
  {
   "cell_type": "code",
   "execution_count": null,
   "metadata": {
    "pycharm": {
     "is_executing": true
    }
   },
   "outputs": [],
   "source": [
    "import mpslib as mps\n",
    "\n",
    "mps.trainingimages.ti_list();"
   ]
  },
  {
   "cell_type": "code",
   "execution_count": 2,
   "metadata": {},
   "outputs": [
    {
     "name": "stdout",
     "output_type": "stream",
     "text": [
      "Beginning download of http://trainingimages.org/uploads/3/4/7/0/34703305/checker_rotinvariant_90.zip to ti_tot90.dat.zip\n",
      "Unziping ti_tot90.dat.zip to ti_tot90.dat\n"
     ]
    }
   ],
   "source": [
    "TI, TI_filename = mps.trainingimages.rot90()"
   ]
  },
  {
   "cell_type": "code",
   "execution_count": 3,
   "metadata": {},
   "outputs": [
    {
     "name": "stdout",
     "output_type": "stream",
     "text": [
      "\n"
     ]
    }
   ],
   "source": [
    "mps.plot.plot_3d(TI, slice=1)"
   ]
  },
  {
   "cell_type": "code",
   "execution_count": 1,
   "metadata": {},
   "outputs": [
    {
     "data": {
      "application/vnd.jupyter.widget-view+json": {
       "model_id": "b812e45901e149a4bd9dff32fa5a152b",
       "version_major": 2,
       "version_minor": 0
      },
      "text/plain": [
       "Viewer(geometries=[{'vtkClass': 'vtkPolyData', 'points': {'vtkClass': 'vtkPoints', 'name': '_points', 'numberO…"
      ]
     },
     "metadata": {},
     "output_type": "display_data"
    }
   ],
   "source": [
    "import pyvista as pv\n",
    "\n",
    "# create a mesh and identify some scalars you wish to plot\n",
    "mesh = pv.Sphere()\n",
    "z = mesh.points[:, 2]\n",
    "\n",
    "# Plot using the ITKplotter\n",
    "pv.plot_itk(mesh, scalars=z)"
   ]
  },
  {
   "cell_type": "code",
   "execution_count": null,
   "metadata": {},
   "outputs": [],
   "source": []
  }
 ],
 "metadata": {
  "kernelspec": {
   "display_name": "Python 3",
   "language": "python",
   "name": "python3"
  },
  "language_info": {
   "codemirror_mode": {
    "name": "ipython",
    "version": 3
   },
   "file_extension": ".py",
   "mimetype": "text/x-python",
   "name": "python",
   "nbconvert_exporter": "python",
   "pygments_lexer": "ipython3",
   "version": "3.7.9"
  }
 },
 "nbformat": 4,
 "nbformat_minor": 4
}
